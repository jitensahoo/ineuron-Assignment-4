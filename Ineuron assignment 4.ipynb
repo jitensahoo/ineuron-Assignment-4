{
 "cells": [
  {
   "cell_type": "markdown",
   "metadata": {},
   "source": [
    "prob 1.1"
   ]
  },
  {
   "cell_type": "code",
   "execution_count": 27,
   "metadata": {},
   "outputs": [
    {
     "data": {
      "text/plain": [
       "10.25"
      ]
     },
     "execution_count": 27,
     "metadata": {},
     "output_type": "execute_result"
    }
   ],
   "source": [
    "class Area:\n",
    "    def __init__(self,a,b,c):\n",
    "        self.A=a\n",
    "        self.B=b\n",
    "        self.C=c\n",
    "class Tri_area(Area):\n",
    "    def ara(self):\n",
    "        s=(self.A+self.B+self.C)/2\n",
    "        a=(s*(s-self.A)*(s-self.B)*(s-self.C)) ** 0.5\n",
    "        return round(abs(a),2)\n",
    "t=Tri_area(2,4,8)\n",
    "t.ara()"
   ]
  },
  {
   "cell_type": "markdown",
   "metadata": {},
   "source": [
    "prob 1.2"
   ]
  },
  {
   "cell_type": "code",
   "execution_count": 19,
   "metadata": {},
   "outputs": [
    {
     "data": {
      "text/plain": [
       "['frtty']"
      ]
     },
     "execution_count": 19,
     "metadata": {},
     "output_type": "execute_result"
    }
   ],
   "source": [
    "def filter_long_words(n,*a):\n",
    "    return [i for i in a if len(i) > n]\n",
    "filter_long_words(3,'wer','ger','frtty')"
   ]
  },
  {
   "cell_type": "markdown",
   "metadata": {},
   "source": [
    "problem 2.1"
   ]
  },
  {
   "cell_type": "code",
   "execution_count": 10,
   "metadata": {},
   "outputs": [
    {
     "data": {
      "text/plain": [
       "[2, 2, 4, 3]"
      ]
     },
     "execution_count": 10,
     "metadata": {},
     "output_type": "execute_result"
    }
   ],
   "source": [
    "def len_list(x):\n",
    "    a=[len(i) for i in x]\n",
    "    return a\n",
    "len_list(['ab','cd','asdd','ded'])"
   ]
  },
  {
   "cell_type": "markdown",
   "metadata": {},
   "source": [
    "problem 2.2"
   ]
  },
  {
   "cell_type": "code",
   "execution_count": 17,
   "metadata": {},
   "outputs": [
    {
     "name": "stdout",
     "output_type": "stream",
     "text": [
      "enter character :j\n"
     ]
    },
    {
     "data": {
      "text/plain": [
       "False"
      ]
     },
     "execution_count": 17,
     "metadata": {},
     "output_type": "execute_result"
    }
   ],
   "source": [
    "def char_type(x):\n",
    "    if x in 'aeiou':\n",
    "        return True\n",
    "    else:\n",
    "        return False\n",
    "str=input('enter character :')\n",
    "char_type(str)"
   ]
  }
 ],
 "metadata": {
  "kernelspec": {
   "display_name": "Python 3",
   "language": "python",
   "name": "python3"
  },
  "language_info": {
   "codemirror_mode": {
    "name": "ipython",
    "version": 3
   },
   "file_extension": ".py",
   "mimetype": "text/x-python",
   "name": "python",
   "nbconvert_exporter": "python",
   "pygments_lexer": "ipython3",
   "version": "3.7.6"
  }
 },
 "nbformat": 4,
 "nbformat_minor": 4
}
